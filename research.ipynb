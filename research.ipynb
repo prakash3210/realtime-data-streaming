{
 "cells": [
  {
   "cell_type": "code",
   "execution_count": 1,
   "metadata": {},
   "outputs": [],
   "source": [
    "import uuid\n",
    "from datetime import datetime\n",
    "from airflow import DAG\n",
    "from airflow.operators.python import PythonOperator"
   ]
  },
  {
   "cell_type": "code",
   "execution_count": 2,
   "metadata": {},
   "outputs": [],
   "source": [
    "default_args = {\n",
    "    'owner': 'prakash',\n",
    "    'start_date': datetime(2024, 2, 2, 10, 00)\n",
    "}\n"
   ]
  },
  {
   "cell_type": "code",
   "execution_count": 3,
   "metadata": {},
   "outputs": [],
   "source": [
    "def get_data():\n",
    "    import requests\n",
    "\n",
    "    res = requests.get(\"https://randomuser.me/api/\")\n",
    "    res = res.json()\n",
    "    res = res['results'][0]\n",
    "\n",
    "    return res"
   ]
  },
  {
   "cell_type": "code",
   "execution_count": 7,
   "metadata": {},
   "outputs": [
    {
     "name": "stdout",
     "output_type": "stream",
     "text": [
      "{\n",
      "   \"gender\": \"male\",\n",
      "   \"name\": {\n",
      "      \"title\": \"Monsieur\",\n",
      "      \"first\": \"Rosario\",\n",
      "      \"last\": \"Richard\"\n",
      "   },\n",
      "   \"location\": {\n",
      "      \"street\": {\n",
      "         \"number\": 4765,\n",
      "         \"name\": \"Rue Paul Bert\"\n",
      "      },\n",
      "      \"city\": \"Founex\",\n",
      "      \"state\": \"Basel-Stadt\",\n",
      "      \"country\": \"Switzerland\",\n",
      "      \"postcode\": 9778,\n",
      "      \"coordinates\": {\n",
      "         \"latitude\": \"-59.0410\",\n",
      "         \"longitude\": \"-78.0432\"\n",
      "      },\n",
      "      \"timezone\": {\n",
      "         \"offset\": \"+11:00\",\n",
      "         \"description\": \"Magadan, Solomon Islands, New Caledonia\"\n",
      "      }\n",
      "   },\n",
      "   \"email\": \"rosario.richard@example.com\",\n",
      "   \"login\": {\n",
      "      \"uuid\": \"ddf7f426-e1f2-4976-b9bf-7ea3fbe0b743\",\n",
      "      \"username\": \"redwolf522\",\n",
      "      \"password\": \"martinez\",\n",
      "      \"salt\": \"5h9kJBBC\",\n",
      "      \"md5\": \"9bd9283dfe5c6c216c0efd40b04b0842\",\n",
      "      \"sha1\": \"15681bf38a18d15b0cc070c418acd98be5a1e973\",\n",
      "      \"sha256\": \"9f88296a64548aabe45c1001cdadb9b7f9d714f1542ad33ae3f4fb4310a9f9ff\"\n",
      "   },\n",
      "   \"dob\": {\n",
      "      \"date\": \"1996-08-30T03:40:24.803Z\",\n",
      "      \"age\": 27\n",
      "   },\n",
      "   \"registered\": {\n",
      "      \"date\": \"2015-05-07T04:14:36.663Z\",\n",
      "      \"age\": 8\n",
      "   },\n",
      "   \"phone\": \"078 907 42 14\",\n",
      "   \"cell\": \"075 426 14 75\",\n",
      "   \"id\": {\n",
      "      \"name\": \"AVS\",\n",
      "      \"value\": \"756.5484.8321.06\"\n",
      "   },\n",
      "   \"picture\": {\n",
      "      \"large\": \"https://randomuser.me/api/portraits/men/23.jpg\",\n",
      "      \"medium\": \"https://randomuser.me/api/portraits/med/men/23.jpg\",\n",
      "      \"thumbnail\": \"https://randomuser.me/api/portraits/thumb/men/23.jpg\"\n",
      "   },\n",
      "   \"nat\": \"CH\"\n",
      "}\n"
     ]
    }
   ],
   "source": [
    "import json\n",
    "\n",
    "print(json.dumps(get_data(), indent=3))"
   ]
  },
  {
   "cell_type": "code",
   "execution_count": 8,
   "metadata": {},
   "outputs": [],
   "source": [
    "def format_data(res):\n",
    "    data = {}\n",
    "    location = res['location']\n",
    "    data['id'] = uuid.uuid4()\n",
    "    data['first_name'] = res['name']['first']\n",
    "    data['last_name'] = res['name']['last']\n",
    "    data['gender'] = res['gender']\n",
    "    data['address'] = f\"{str(location['street']['number'])} {location['street']['name']}, \" \\\n",
    "                      f\"{location['city']}, {location['state']}, {location['country']}\"\n",
    "    data['post_code'] = location['postcode']\n",
    "    data['email'] = res['email']\n",
    "    data['username'] = res['login']['username']\n",
    "    data['dob'] = res['dob']['date']\n",
    "    data['registered_date'] = res['registered']['date']\n",
    "    data['phone'] = res['phone']\n",
    "    data['picture'] = res['picture']['medium']\n",
    "\n",
    "    return data"
   ]
  }
 ],
 "metadata": {
  "kernelspec": {
   "display_name": ".venv",
   "language": "python",
   "name": "python3"
  },
  "language_info": {
   "codemirror_mode": {
    "name": "ipython",
    "version": 3
   },
   "file_extension": ".py",
   "mimetype": "text/x-python",
   "name": "python",
   "nbconvert_exporter": "python",
   "pygments_lexer": "ipython3",
   "version": "3.10.11"
  }
 },
 "nbformat": 4,
 "nbformat_minor": 2
}
